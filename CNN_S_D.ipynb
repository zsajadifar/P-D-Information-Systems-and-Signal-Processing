{
  "cells": [
    {
      "cell_type": "markdown",
      "metadata": {
        "id": "view-in-github",
        "colab_type": "text"
      },
      "source": [
        "<a href=\"https://colab.research.google.com/github/zsajadifar/P-D-Information-Systems-and-Signal-Processing/blob/main/CNN_S_D.ipynb\" target=\"_parent\"><img src=\"https://colab.research.google.com/assets/colab-badge.svg\" alt=\"Open In Colab\"/></a>"
      ]
    },
    {
      "cell_type": "markdown",
      "metadata": {
        "id": "-1cmZnQOm517"
      },
      "source": [
        "## P&O ISSP: Brain-computer interface voor sturing van een directionele akoestische zoom"
      ]
    },
    {
      "cell_type": "markdown",
      "metadata": {
        "id": "15TgxRRrm52A"
      },
      "source": [
        "In this notebook, we will start building a basic deep learning implementation for classifying which two of the Stimuli was attended to, when given EEG and both Stimuli as input. \n",
        "\n",
        "\n",
        "One of the ways to process the EEG data is to find specific patterns in the signal. Based on the presence or absence of these patterns we will decide where is the auditory attention. But handcrafting these pattern might be difficult, so we will use convolutional neural network to learn filters which can detect those patterns.\n",
        "\n",
        "The implementation will be in mulitple phases. First, we will get more familiar with keras and the deep learning framework by mimicking the linear regression-based network, but then in a non-linear context. Once we have implemented this, we can start playing with the deep learning architectures and add some blocks, see what different training schemes do, etc... \n",
        "\n",
        "The following paper has a very similar approach to the one we will take. Note that there is a difference with the data. In the paper, there is always only 1 speaker that is talking while the EEG is recorded, whereas we have 2 competing speakers. However, the implementation of the networks will be the same. Instead of taking the mismatch in the future of the same envelope, we already have an attended and unattended envelope here. \n",
        "\n",
        "Accou, Bernd, et al. \"Modeling the relationship between acoustic stimulus and EEG with a dilated convolutional neural network.\" 2020 28th European Signal Processing Conference (EUSIPCO). IEEE, 2021.\n",
        "\n",
        "If we look at the paper, they compare three different methods. We have alread implemented method a) Linear decoder baseline. \n",
        "We will now first implement method b) Convolutional baseline method and then expand from this towards c) dilation model or d) your own extentions on this model \n"
      ]
    },
    {
      "cell_type": "markdown",
      "metadata": {
        "id": "iAJUj1LWm52C"
      },
      "source": [
        "**Note**: If keras is  not already installed, execute: !pip install keras"
      ]
    },
    {
      "cell_type": "code",
      "execution_count": null,
      "metadata": {
        "id": "v_xoiZWUm52E"
      },
      "outputs": [],
      "source": [
        "# Load required libraries\n",
        "import keras\n",
        "from keras.models import Sequential\n",
        "from keras.layers import Dense, Conv1D, Flatten, Activation\n",
        "from keras import regularizers\n",
        "import tensorflow as tf \n",
        "from tensorflow.python.ops.linalg_ops import norm\n",
        "import h5py\n",
        "import numpy as np"
      ]
    },
    {
      "cell_type": "code",
      "source": [
        "from google.colab import drive\n",
        "drive.mount('/content/drive')"
      ],
      "metadata": {
        "colab": {
          "base_uri": "https://localhost:8080/"
        },
        "id": "4WXP1FZC96ds",
        "outputId": "e64ca8d3-27db-4aeb-f403-9c30a1dd8303"
      },
      "execution_count": null,
      "outputs": [
        {
          "output_type": "stream",
          "name": "stdout",
          "text": [
            "Mounted at /content/drive\n"
          ]
        }
      ]
    },
    {
      "cell_type": "markdown",
      "metadata": {
        "id": "WRUN1nnem52N"
      },
      "source": [
        "![fig_1](dilation-figures.png)\n",
        "\n",
        "* The EEG data preprocessing has been explained in another tutorial.\n",
        "* we have already implemeted method a) linear decoder baseline \n",
        "* we will now start with method b) convolutional baseline method \n",
        "* once this is implemented, we can expand this model towards model c) dilation model and possibly add extentions \n",
        "\n",
        "**Convolutional baseline network**\n",
        "* The first step in the model is a convolutional layer, indicated in red. A (64 x 16) spatio-temporal filter is shifted over the input matrix, containing the EEG.\n",
        "* A rectifying linear unit (ReLu) activation function is used after the convolution step. the kernel size of 16 is chosen because, as is the case in the linear model, we want to look to future EEG to predict the current envelope. the EEG is sampled at fs=64Hz, giving us a temporal resolution of 16/64 = 250ms.\n",
        "* The output of the convolutional block is a (time-window, 1) signal. \n",
        "* In the next step, we calculate the cosine similarity between this signal and both of the envelopes. We will calculate this cosine similarity by applying a *dot product* between the signal and both envelopes. \n",
        "* As a last step, we then have to choose which one of the two attended envelopes is the one we want to choose. We do this by applying a single neuron ( **dense layer** in keras, with a sigmoid activation function. \n",
        "\n",
        "**dilation model**\n",
        "* the idea here is the same. We still give EEG and envelopes to the model, there are just more processing steps in between before we have to make a decision. \n",
        "* we first apply a one-dimensional convolution to the EEG, with 8 output filters. We can interpret this as kind of a non-linear dimensionality reduction, as the resulting EEG has shape (time-window, 8) instead of the original (time-window, 64) \n",
        "* next, there are some dilated convolutional blocks. these blocks will perform convolutions, with a certain dilation factor ( see picture). This enlarges the receptive field of the convolution, while still keeping the number of parameters small. Eg. we can look over a longer time period. These convolutions are applied to both EEG and envelopes. \n",
        "* after that, we once again compute the dot product and subsequently put the result of this in a sigmoid neuron to reach an end decision. \n",
        "\n",
        "\n",
        "\n"
      ]
    },
    {
      "cell_type": "code",
      "execution_count": null,
      "metadata": {
        "id": "4hmbrPpkm52O"
      },
      "outputs": [],
      "source": [
        "time_window = 640;\n",
        "eeg = tf.keras.layers.Input(shape=[time_window, 64])\n",
        "env1 = tf.keras.layers.Input(shape=[time_window, 1])\n",
        "env2 = tf.keras.layers.Input(shape=[time_window, 1])\n",
        "\n",
        "#add model layers\n",
        "## ---- add your code ----here\n",
        "filters = 1\n",
        "kernel_size = 16\n",
        "eeg_conv = tf.keras.layers.Conv1D(filters, kernel_size=kernel_size)(eeg)\n",
        "cos1 = tf.keras.layers.Dot(1,normalize= True)([eeg_conv , env1[:,:-(kernel_size-1),:]])\n",
        "cos2 = tf.keras.layers.Dot(1,normalize= True)([eeg_conv , env2[:,:-(kernel_size-1),:]])\n",
        "\n",
        "# Classification\n",
        "cos_similarity = tf.keras.layers.Concatenate()([cos1, cos2])\n",
        "cos_flat = tf.keras.layers.Flatten()(cos_similarity)\n",
        "out1 = tf.keras.layers.Dense(1, activation=\"sigmoid\")(cos_flat)\n",
        "\n",
        "# 1 output per batch\n",
        "#out = tf.keras.layers.Reshape([1], name=output_name)(out1)\n",
        "model = tf.keras.Model(inputs=[eeg, env1, env2], outputs=[out1])\n",
        "\n"
      ]
    },
    {
      "cell_type": "code",
      "execution_count": null,
      "metadata": {
        "colab": {
          "base_uri": "https://localhost:8080/"
        },
        "id": "lvReB1npm52U",
        "outputId": "781707a3-ae07-4121-ef47-b7999b7dedab"
      },
      "outputs": [
        {
          "output_type": "stream",
          "name": "stdout",
          "text": [
            "Model: \"model\"\n",
            "__________________________________________________________________________________________________\n",
            " Layer (type)                   Output Shape         Param #     Connected to                     \n",
            "==================================================================================================\n",
            " input_1 (InputLayer)           [(None, 640, 64)]    0           []                               \n",
            "                                                                                                  \n",
            " input_2 (InputLayer)           [(None, 640, 1)]     0           []                               \n",
            "                                                                                                  \n",
            " input_3 (InputLayer)           [(None, 640, 1)]     0           []                               \n",
            "                                                                                                  \n",
            " conv1d (Conv1D)                (None, 625, 1)       1025        ['input_1[0][0]']                \n",
            "                                                                                                  \n",
            " tf.__operators__.getitem (Slic  (None, 625, 1)      0           ['input_2[0][0]']                \n",
            " ingOpLambda)                                                                                     \n",
            "                                                                                                  \n",
            " tf.__operators__.getitem_1 (Sl  (None, 625, 1)      0           ['input_3[0][0]']                \n",
            " icingOpLambda)                                                                                   \n",
            "                                                                                                  \n",
            " dot (Dot)                      (None, 1, 1)         0           ['conv1d[0][0]',                 \n",
            "                                                                  'tf.__operators__.getitem[0][0]'\n",
            "                                                                 ]                                \n",
            "                                                                                                  \n",
            " dot_1 (Dot)                    (None, 1, 1)         0           ['conv1d[0][0]',                 \n",
            "                                                                  'tf.__operators__.getitem_1[0][0\n",
            "                                                                 ]']                              \n",
            "                                                                                                  \n",
            " concatenate (Concatenate)      (None, 1, 2)         0           ['dot[0][0]',                    \n",
            "                                                                  'dot_1[0][0]']                  \n",
            "                                                                                                  \n",
            " flatten (Flatten)              (None, 2)            0           ['concatenate[0][0]']            \n",
            "                                                                                                  \n",
            " dense (Dense)                  (None, 1)            3           ['flatten[0][0]']                \n",
            "                                                                                                  \n",
            "==================================================================================================\n",
            "Total params: 1,028\n",
            "Trainable params: 1,028\n",
            "Non-trainable params: 0\n",
            "__________________________________________________________________________________________________\n"
          ]
        }
      ],
      "source": [
        "# To check the model summary:\n",
        "model.summary()"
      ]
    },
    {
      "cell_type": "markdown",
      "metadata": {
        "id": "FvoDE4nf8Wbs"
      },
      "source": [
        "Before we start training the model, we need to make sure that the data is equally balanced. We have attended and unattended envelopes that we give to the model. If we always put the attended envelope at stream 1 and the unattended at stream 2, the model will quickly figure out that it should just always output stream 1 and hence not learn anything. \n",
        "\n",
        "The solution to this is to present each segment of EEG twice, where we swap the envelopes, ( and thus, the labels), from place "
      ]
    },
    {
      "cell_type": "code",
      "execution_count": null,
      "metadata": {
        "id": "atmpZHx-8Wbs"
      },
      "outputs": [],
      "source": [
        "def batch_equalizer(eeg, env1, env2, labels):\n",
        "    # present each of the eeg segments twice, where the envelopes, and thus the labels \n",
        "    # are swapped around. EEG presented in small segments [bs, window_length, 64]\n",
        "    return np.concatenate([eeg,eeg], axis=0), np.concatenate([env1, env2], axis=0),np.concatenate([env2, env1], axis=0), np.concatenate([labels, (labels+1)%2], axis=0)\n"
      ]
    },
    {
      "cell_type": "markdown",
      "metadata": {
        "id": "G3mzuy-jm52i"
      },
      "source": [
        "* Now we prepare our data to train the model."
      ]
    },
    {
      "cell_type": "code",
      "execution_count": null,
      "metadata": {
        "id": "3X0Vn9JWm52k"
      },
      "outputs": [],
      "source": [
        "# To load the mat file in v7.3 format. For all previous formats use scipy.io loadmat (https://docs.scipy.org/doc/scipy/reference/generated/scipy.io.loadmat.html)\n",
        "def load_large_mat(filepath):\n",
        "    arrays = {}\n",
        "    f = h5py.File(filepath)\n",
        "    for k, v in f.items():\n",
        "        arrays[k] = np.array(v)\n",
        "    f.close()\n",
        "    return arrays"
      ]
    },
    {
      "cell_type": "code",
      "source": [
        "eeg_path = '/content/drive/MyDrive/Colab Notebooks/P&D_phase2/data/eeg_cnn.mat'\n",
        "env_attend_path = '/content/drive/MyDrive/Colab Notebooks/P&D_phase2/data/env_attend.mat'\n",
        "env_unattend_path = '/content/drive/MyDrive/Colab Notebooks/P&D_phase2/data/env_unattend.mat'"
      ],
      "metadata": {
        "id": "-aTMw_wVctbS"
      },
      "execution_count": null,
      "outputs": []
    },
    {
      "cell_type": "code",
      "source": [
        "eeg = load_large_mat(eeg_path)\n",
        "env1 = load_large_mat(env_attend_path)\n",
        "env2 = load_large_mat(env_unattend_path)\n",
        "eeg = eeg['eeg']\n",
        "env1 = env1['env_attend']\n",
        "env2 = env2['env_unattend']"
      ],
      "metadata": {
        "id": "Bspglp0joU2b"
      },
      "execution_count": null,
      "outputs": []
    },
    {
      "cell_type": "code",
      "source": [
        "eeg  = np.reshape(eeg  , (eeg.shape[0]  ,eeg.shape[2]   ,eeg.shape[1]))\n",
        "env1 = np.reshape(env1 , (env1.shape[0] ,env1.shape[2]  ,env1.shape[1]))\n",
        "env2 = np.reshape(env2 , (env2.shape[0] ,env2.shape[2]  ,env2.shape[1]))"
      ],
      "metadata": {
        "id": "fec_FmNUe5Lz"
      },
      "execution_count": null,
      "outputs": []
    },
    {
      "cell_type": "code",
      "source": [
        "print(eeg.shape)\n",
        "print(env1.shape)\n",
        "print(env2.shape)"
      ],
      "metadata": {
        "colab": {
          "base_uri": "https://localhost:8080/"
        },
        "id": "z3-fqic8jgpT",
        "outputId": "5b604713-ce11-4941-dcf5-88892b9465fd"
      },
      "execution_count": null,
      "outputs": [
        {
          "output_type": "stream",
          "name": "stdout",
          "text": [
            "(1740, 3500, 64)\n",
            "(1740, 3500, 1)\n",
            "(1740, 3500, 1)\n"
          ]
        }
      ]
    },
    {
      "cell_type": "code",
      "source": [
        "x=[]\n",
        "X=np.zeros((1,640,64))\n",
        "p = int(np.round(eeg.shape[1]/time_window))\n",
        "for i in range(0,eeg.shape[0]):\n",
        "  for j in range(0,p):\n",
        "    x= eeg[i,j*time_window:j*time_window+time_window,:]\n",
        "    x = x.reshape((1,x.shape[0],x.shape[1]))\n",
        "    X = np.concatenate([X,x], axis=0)\n",
        " "
      ],
      "metadata": {
        "id": "2EFQcfXEjkns"
      },
      "execution_count": null,
      "outputs": []
    },
    {
      "cell_type": "code",
      "source": [
        "EEG = X[1:,:,:]\n",
        "EEG.shape"
      ],
      "metadata": {
        "colab": {
          "base_uri": "https://localhost:8080/"
        },
        "id": "9sQ_529vQSGW",
        "outputId": "3c431775-5a51-459b-cbd9-76d90f8d1acf"
      },
      "execution_count": null,
      "outputs": [
        {
          "output_type": "execute_result",
          "data": {
            "text/plain": [
              "(8700, 640, 64)"
            ]
          },
          "metadata": {},
          "execution_count": 18
        }
      ]
    },
    {
      "cell_type": "code",
      "source": [
        "from scipy.io import savemat\n",
        "savemat('eeg_data.mat', {'eeg_data': EEG})"
      ],
      "metadata": {
        "id": "0a2VMJrunuUp"
      },
      "execution_count": null,
      "outputs": []
    },
    {
      "cell_type": "code",
      "source": [
        "x=[]\n",
        "y=[]\n",
        "X=np.zeros((1,640,1))\n",
        "Y=np.zeros((1,640,1))\n",
        "\n",
        "p = int(np.round(eeg.shape[1]/time_window))\n",
        "for i in range(0,eeg.shape[0]):\n",
        "  for j in range(0,p):\n",
        "    x= env1[i,j*time_window:j*time_window+time_window,:]\n",
        "    x = x.reshape((1,x.shape[0],x.shape[1]))\n",
        "    y= env2[i,j*time_window:j*time_window+time_window,:]\n",
        "    y = y.reshape((1,y.shape[0],y.shape[1]))\n",
        "\n",
        "    X = np.concatenate([X,x], axis=0)\n",
        "    Y = np.concatenate([Y,y], axis=0)\n",
        "\n",
        " "
      ],
      "metadata": {
        "id": "5Lxoh4AFobM8"
      },
      "execution_count": null,
      "outputs": []
    },
    {
      "cell_type": "code",
      "source": [
        "ENV1 = X[1:,:,:]\n",
        "ENV2 = Y[1:,:,:]\n",
        "print(ENV1.shape)\n",
        "print(ENV2.shape)"
      ],
      "metadata": {
        "colab": {
          "base_uri": "https://localhost:8080/"
        },
        "id": "g08vwEvDrXMu",
        "outputId": "7a621ddd-595d-4e0f-bcc1-86070896d66e"
      },
      "execution_count": null,
      "outputs": [
        {
          "output_type": "stream",
          "name": "stdout",
          "text": [
            "(8700, 640, 1)\n",
            "(8700, 640, 1)\n"
          ]
        }
      ]
    },
    {
      "cell_type": "code",
      "source": [
        "savemat('env1_data.mat', {'env1_data': ENV1})\n",
        "savemat('env2_data.mat', {'env2_data': ENV2})"
      ],
      "metadata": {
        "id": "SM4PoMoltG2m"
      },
      "execution_count": null,
      "outputs": []
    },
    {
      "cell_type": "markdown",
      "source": [
        "# **Load modified data**"
      ],
      "metadata": {
        "id": "SI0-kAMsv5sE"
      }
    },
    {
      "cell_type": "code",
      "source": [
        "eeg_path = '/content/drive/MyDrive/data_modified/eeg_data.mat'\n",
        "env_attend_path = '/content/drive/MyDrive/data_modified/env1_data.mat'\n",
        "env_unattend_path = '/content/drive/MyDrive/data_modified/env2_data.mat'"
      ],
      "metadata": {
        "id": "RbXJK471wGen"
      },
      "execution_count": null,
      "outputs": []
    },
    {
      "cell_type": "code",
      "source": [
        "from scipy.io import loadmat\n",
        "\n",
        "eeg  = loadmat(eeg_path);\n",
        "env1 = loadmat(env_attend_path)\n",
        "env2 = loadmat(env_unattend_path)\n",
        "eeg = eeg['eeg_data']\n",
        "env1 = env1['env1_data']\n",
        "env2 = env2['env2_data']"
      ],
      "metadata": {
        "id": "NFclXl7lwBfd"
      },
      "execution_count": null,
      "outputs": []
    },
    {
      "cell_type": "code",
      "source": [
        "print(eeg.shape)\n",
        "print(env1.shape)\n",
        "print(env2.shape)"
      ],
      "metadata": {
        "colab": {
          "base_uri": "https://localhost:8080/"
        },
        "id": "tjRi8qHZxoGl",
        "outputId": "ec84cf5d-5cb5-440b-b502-a3a8d4f8ef35"
      },
      "execution_count": null,
      "outputs": [
        {
          "output_type": "stream",
          "name": "stdout",
          "text": [
            "(8700, 640, 64)\n",
            "(8700, 640, 1)\n",
            "(8700, 640, 1)\n"
          ]
        }
      ]
    },
    {
      "cell_type": "code",
      "source": [
        "type(env1)"
      ],
      "metadata": {
        "colab": {
          "base_uri": "https://localhost:8080/"
        },
        "id": "OWju3skdzVen",
        "outputId": "21abc5cf-25db-4189-c344-0fe8698f7549"
      },
      "execution_count": null,
      "outputs": [
        {
          "output_type": "execute_result",
          "data": {
            "text/plain": [
              "numpy.ndarray"
            ]
          },
          "metadata": {},
          "execution_count": 7
        }
      ]
    },
    {
      "cell_type": "code",
      "source": [
        "p = 5\n",
        "labels = np.zeros((1740*p,1))\n",
        "eeg,env1,env2, labels = batch_equalizer(eeg, env1, env2, labels)\n"
      ],
      "metadata": {
        "id": "xnJdeBErqwe1"
      },
      "execution_count": null,
      "outputs": []
    },
    {
      "cell_type": "code",
      "source": [
        "print(eeg.shape)\n",
        "print(env1.shape)\n",
        "print(env2.shape)\n",
        "print(labels.shape)"
      ],
      "metadata": {
        "colab": {
          "base_uri": "https://localhost:8080/"
        },
        "id": "_h6b-HtTnpbz",
        "outputId": "d629fdc0-cbd5-4e6a-b70e-bbb5751c555d"
      },
      "execution_count": null,
      "outputs": [
        {
          "output_type": "stream",
          "name": "stdout",
          "text": [
            "(17400, 640, 64)\n",
            "(17400, 640, 1)\n",
            "(17400, 640, 1)\n",
            "(17400, 1)\n"
          ]
        }
      ]
    },
    {
      "cell_type": "code",
      "execution_count": null,
      "metadata": {
        "id": "DuPGMqTKm52p"
      },
      "outputs": [],
      "source": [
        "'''\n",
        "# Preprocessing\n",
        "def fn_all(fnarrays1,fnarrays2):\n",
        "    #------add your prerprocessing steps here\n",
        "    fnxtr_all = fnarrays1\n",
        "    fny_tr_all = fnarrays2\n",
        "    x = np.expand_dims(fnxtr_all,-1)\n",
        "    return x,y\n",
        "'''"
      ]
    },
    {
      "cell_type": "code",
      "source": [
        "model.compile(\n",
        "      optimizer=tf.keras.optimizers.Adam(learning_rate=0.01),\n",
        "      metrics=[\"acc\"],\n",
        "      loss=[\"binary_crossentropy\"]\n",
        ")\n",
        "\n",
        "model.fit([eeg, env1, env2], labels,\n",
        "          epochs=100,validation_split=0.3,shuffle=True,\n",
        "          verbose=2)\n",
        "          "
      ],
      "metadata": {
        "id": "kbdtZFRLl6uR"
      },
      "execution_count": null,
      "outputs": []
    }
  ],
  "metadata": {
    "colab": {
      "collapsed_sections": [],
      "name": "CNN_S_D.ipynb",
      "provenance": [],
      "include_colab_link": true
    },
    "kernelspec": {
      "display_name": "Python 3",
      "language": "python",
      "name": "python3"
    },
    "language_info": {
      "codemirror_mode": {
        "name": "ipython",
        "version": 3
      },
      "file_extension": ".py",
      "mimetype": "text/x-python",
      "name": "python",
      "nbconvert_exporter": "python",
      "pygments_lexer": "ipython3",
      "version": "3.7.4"
    },
    "accelerator": "GPU"
  },
  "nbformat": 4,
  "nbformat_minor": 0
}