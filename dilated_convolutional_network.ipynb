{
  "nbformat": 4,
  "nbformat_minor": 0,
  "metadata": {
    "colab": {
      "name": "dilated-convolutional-network.ipynb",
      "provenance": [],
      "authorship_tag": "ABX9TyMupI0CRrpaS0WYOQAHuN/7",
      "include_colab_link": true
    },
    "kernelspec": {
      "name": "python3",
      "display_name": "Python 3"
    },
    "language_info": {
      "name": "python"
    },
    "accelerator": "GPU"
  },
  "cells": [
    {
      "cell_type": "markdown",
      "metadata": {
        "id": "view-in-github",
        "colab_type": "text"
      },
      "source": [
        "<a href=\"https://colab.research.google.com/github/zsajadifar/P-D-Information-Systems-and-Signal-Processing/blob/main/dilated_convolutional_network.ipynb\" target=\"_parent\"><img src=\"https://colab.research.google.com/assets/colab-badge.svg\" alt=\"Open In Colab\"/></a>"
      ]
    },
    {
      "cell_type": "code",
      "execution_count": 1,
      "metadata": {
        "id": "DrYsUBCQ2GST"
      },
      "outputs": [],
      "source": [
        "# Load required libraries\n",
        "import keras\n",
        "from keras.models import Sequential\n",
        "from keras.layers import Dense, Conv1D, Flatten, Activation\n",
        "from keras import regularizers\n",
        "import tensorflow as tf \n",
        "from tensorflow.python.ops.linalg_ops import norm\n",
        "import h5py\n",
        "import numpy as np\n",
        "import matplotlib.pyplot as plt\n"
      ]
    },
    {
      "cell_type": "code",
      "source": [
        "from google.colab import drive\n",
        "drive.mount('/content/drive')"
      ],
      "metadata": {
        "colab": {
          "base_uri": "https://localhost:8080/"
        },
        "id": "u4A5HVWc2d-i",
        "outputId": "12e5dd47-5456-4fd7-fae2-a49fd2793fe1"
      },
      "execution_count": 2,
      "outputs": [
        {
          "output_type": "stream",
          "name": "stdout",
          "text": [
            "Mounted at /content/drive\n"
          ]
        }
      ]
    },
    {
      "cell_type": "code",
      "source": [
        "time_window=640\n",
        "layers=3\n",
        "kernel_size=3\n",
        "filters_spatial=8\n",
        "filters_dilated=16\n",
        "\n",
        "eeg = tf.keras.layers.Input(shape=[time_window, 64])\n",
        "env1 = tf.keras.layers.Input(shape=[time_window, 1])\n",
        "env2 = tf.keras.layers.Input(shape=[time_window, 1])\n",
        "\n",
        "#add model layers\n",
        "## ---- add your code ----here\n",
        "\n",
        "# Activations to apply\n",
        "activations = [\"relu\"] * layers\n",
        "\n",
        "# Spatial convolution\n",
        "env1_conv = env1\n",
        "env2_conv = env2\n",
        "eeg_conv = tf.keras.layers.Conv1D(filters_spatial, kernel_size=1)(eeg)\n",
        "\n",
        "# Dilated convolution\n",
        "for l in range(layers):\n",
        "  # eeg\n",
        "  eeg_conv  = tf.keras.layers.Conv1D(filters_dilated, kernel_size=kernel_size, dilation_rate=kernel_size ** l,\n",
        "                                            strides=1, activation=activations[l])(eeg_conv)\n",
        "\n",
        "  # env \n",
        "  env1_conv = tf.keras.layers.Conv1D(filters_dilated, kernel_size=kernel_size, dilation_rate=kernel_size ** l,\n",
        "                                            strides=1, activation=activations[l])(env1_conv)                                       \n",
        "\n",
        "  env2_conv = tf.keras.layers.Conv1D(filters_dilated, kernel_size=kernel_size, dilation_rate=kernel_size ** l,\n",
        "                                            strides=1, activation=activations[l])(env2_conv) \n",
        "\n",
        "\n",
        "\n",
        "# Classification\n",
        "cos1 = tf.keras.layers.Dot(1, normalize=True)([eeg_conv, env1_conv])\n",
        "cos2 = tf.keras.layers.Dot(1, normalize=True)([eeg_conv, env2_conv])\n",
        "cos_similarity = tf.keras.layers.Concatenate()([cos1, cos2])\n",
        "cos_flat = tf.keras.layers.Flatten()(cos_similarity)\n",
        "out1 = tf.keras.layers.Dense(1, activation=\"sigmoid\")(cos_flat)\n",
        "\n",
        "# 1 output per batch\n",
        "#out = tf.keras.layers.Reshape([1], name=output_name)(out1)\n",
        "model = tf.keras.Model(inputs=[eeg, env1, env2], outputs=[out1])\n"
      ],
      "metadata": {
        "id": "TnPv52Ew2gFn"
      },
      "execution_count": 3,
      "outputs": []
    },
    {
      "cell_type": "code",
      "source": [
        "model.summary()"
      ],
      "metadata": {
        "colab": {
          "base_uri": "https://localhost:8080/"
        },
        "id": "UWWIQ-wL2iYP",
        "outputId": "0c6afd19-fad9-4111-d874-fbfbe687ac6c"
      },
      "execution_count": 4,
      "outputs": [
        {
          "output_type": "stream",
          "name": "stdout",
          "text": [
            "Model: \"model\"\n",
            "__________________________________________________________________________________________________\n",
            " Layer (type)                   Output Shape         Param #     Connected to                     \n",
            "==================================================================================================\n",
            " input_1 (InputLayer)           [(None, 640, 64)]    0           []                               \n",
            "                                                                                                  \n",
            " conv1d (Conv1D)                (None, 640, 8)       520         ['input_1[0][0]']                \n",
            "                                                                                                  \n",
            " input_2 (InputLayer)           [(None, 640, 1)]     0           []                               \n",
            "                                                                                                  \n",
            " input_3 (InputLayer)           [(None, 640, 1)]     0           []                               \n",
            "                                                                                                  \n",
            " conv1d_1 (Conv1D)              (None, 638, 16)      400         ['conv1d[0][0]']                 \n",
            "                                                                                                  \n",
            " conv1d_2 (Conv1D)              (None, 638, 16)      64          ['input_2[0][0]']                \n",
            "                                                                                                  \n",
            " conv1d_3 (Conv1D)              (None, 638, 16)      64          ['input_3[0][0]']                \n",
            "                                                                                                  \n",
            " conv1d_4 (Conv1D)              (None, 632, 16)      784         ['conv1d_1[0][0]']               \n",
            "                                                                                                  \n",
            " conv1d_5 (Conv1D)              (None, 632, 16)      784         ['conv1d_2[0][0]']               \n",
            "                                                                                                  \n",
            " conv1d_6 (Conv1D)              (None, 632, 16)      784         ['conv1d_3[0][0]']               \n",
            "                                                                                                  \n",
            " conv1d_7 (Conv1D)              (None, 614, 16)      784         ['conv1d_4[0][0]']               \n",
            "                                                                                                  \n",
            " conv1d_8 (Conv1D)              (None, 614, 16)      784         ['conv1d_5[0][0]']               \n",
            "                                                                                                  \n",
            " conv1d_9 (Conv1D)              (None, 614, 16)      784         ['conv1d_6[0][0]']               \n",
            "                                                                                                  \n",
            " dot (Dot)                      (None, 16, 16)       0           ['conv1d_7[0][0]',               \n",
            "                                                                  'conv1d_8[0][0]']               \n",
            "                                                                                                  \n",
            " dot_1 (Dot)                    (None, 16, 16)       0           ['conv1d_7[0][0]',               \n",
            "                                                                  'conv1d_9[0][0]']               \n",
            "                                                                                                  \n",
            " concatenate (Concatenate)      (None, 16, 32)       0           ['dot[0][0]',                    \n",
            "                                                                  'dot_1[0][0]']                  \n",
            "                                                                                                  \n",
            " flatten (Flatten)              (None, 512)          0           ['concatenate[0][0]']            \n",
            "                                                                                                  \n",
            " dense (Dense)                  (None, 1)            513         ['flatten[0][0]']                \n",
            "                                                                                                  \n",
            "==================================================================================================\n",
            "Total params: 6,265\n",
            "Trainable params: 6,265\n",
            "Non-trainable params: 0\n",
            "__________________________________________________________________________________________________\n"
          ]
        }
      ]
    },
    {
      "cell_type": "code",
      "source": [
        "def batch_equalizer(eeg, env1, env2, labels):\n",
        "    # present each of the eeg segments twice, where the envelopes, and thus the labels \n",
        "    # are swapped around. EEG presented in small segments [bs, window_length, 64]\n",
        "    return np.concatenate([eeg,eeg], axis=0), np.concatenate([env1, env2], axis=0),np.concatenate([env2, env1], axis=0), np.concatenate([labels, (labels+1)%2], axis=0)\n"
      ],
      "metadata": {
        "id": "EVffz0af2lIW"
      },
      "execution_count": 5,
      "outputs": []
    },
    {
      "cell_type": "code",
      "source": [
        "eeg_path = '/content/drive/MyDrive/Colab Notebooks/P&D_phase2/data/modified data/eeg_data.mat'\n",
        "env_attend_path = '/content/drive/MyDrive/Colab Notebooks/P&D_phase2/data/modified data/env1_data.mat'\n",
        "env_unattend_path = '/content/drive/MyDrive/Colab Notebooks/P&D_phase2/data/modified data/env2_data.mat'"
      ],
      "metadata": {
        "id": "pzd39OCD2nVL"
      },
      "execution_count": 6,
      "outputs": []
    },
    {
      "cell_type": "code",
      "source": [
        "from scipy.io import loadmat\n",
        "\n",
        "eeg  = loadmat(eeg_path);\n",
        "env1 = loadmat(env_attend_path)\n",
        "env2 = loadmat(env_unattend_path)\n",
        "eeg = eeg['eeg_data']\n",
        "env1 = env1['env1_data']\n",
        "env2 = env2['env2_data']"
      ],
      "metadata": {
        "id": "btpQhgo32pcq"
      },
      "execution_count": 7,
      "outputs": []
    },
    {
      "cell_type": "code",
      "source": [
        "print(eeg.shape)\n",
        "print(env1.shape)\n",
        "print(env2.shape)"
      ],
      "metadata": {
        "colab": {
          "base_uri": "https://localhost:8080/"
        },
        "id": "O0OWDQOF2rlf",
        "outputId": "70263f23-b9a1-473c-9e7e-2d2690f77b2e"
      },
      "execution_count": 8,
      "outputs": [
        {
          "output_type": "stream",
          "name": "stdout",
          "text": [
            "(8700, 640, 64)\n",
            "(8700, 640, 1)\n",
            "(8700, 640, 1)\n"
          ]
        }
      ]
    },
    {
      "cell_type": "code",
      "source": [
        "p = 5\n",
        "labels = np.zeros((1740*p,1))\n",
        "eeg,env1,env2, labels = batch_equalizer(eeg, env1, env2, labels)\n"
      ],
      "metadata": {
        "id": "4G0_jD312tjK"
      },
      "execution_count": 8,
      "outputs": []
    },
    {
      "cell_type": "code",
      "source": [
        "print(eeg.shape)\n",
        "print(env1.shape)\n",
        "print(env2.shape)\n",
        "print(labels.shape)"
      ],
      "metadata": {
        "colab": {
          "base_uri": "https://localhost:8080/"
        },
        "id": "yN-uOtaL2vpP",
        "outputId": "f9acf10c-7b70-4f1a-e1b0-3ea77906abf2"
      },
      "execution_count": 10,
      "outputs": [
        {
          "output_type": "stream",
          "name": "stdout",
          "text": [
            "(17400, 640, 64)\n",
            "(17400, 640, 1)\n",
            "(17400, 640, 1)\n",
            "(17400, 1)\n"
          ]
        }
      ]
    },
    {
      "cell_type": "code",
      "source": [
        "model.compile(\n",
        "      optimizer=tf.keras.optimizers.Adam(learning_rate=0.1),\n",
        "      metrics=[\"acc\"],\n",
        "      loss=[\"binary_crossentropy\"])\n",
        "\n",
        "history = model.fit([eeg, env1, env2], labels,\n",
        "          epochs=1000,validation_split=0.2,shuffle=True,\n",
        "          verbose=2)\n",
        "          "
      ],
      "metadata": {
        "colab": {
          "base_uri": "https://localhost:8080/",
          "height": 1000
        },
        "id": "eXoAfy8h2xuj",
        "outputId": "4a9a5841-1452-4228-b33c-c01193323f43"
      },
      "execution_count": 9,
      "outputs": [
        {
          "output_type": "stream",
          "name": "stdout",
          "text": [
            "Epoch 1/1000\n",
            "435/435 - 24s - loss: 0.6748 - acc: 0.6244 - val_loss: 0.8382 - val_acc: 0.0000e+00 - 24s/epoch - 55ms/step\n",
            "Epoch 2/1000\n",
            "435/435 - 8s - loss: 0.6643 - acc: 0.6250 - val_loss: 0.9079 - val_acc: 0.0000e+00 - 8s/epoch - 18ms/step\n",
            "Epoch 3/1000\n",
            "435/435 - 8s - loss: 0.6633 - acc: 0.6250 - val_loss: 1.0859 - val_acc: 0.0000e+00 - 8s/epoch - 18ms/step\n",
            "Epoch 4/1000\n",
            "435/435 - 8s - loss: 0.6639 - acc: 0.6250 - val_loss: 1.1460 - val_acc: 0.0000e+00 - 8s/epoch - 18ms/step\n",
            "Epoch 5/1000\n",
            "435/435 - 8s - loss: 0.6636 - acc: 0.6250 - val_loss: 1.0352 - val_acc: 0.0000e+00 - 8s/epoch - 18ms/step\n",
            "Epoch 6/1000\n",
            "435/435 - 8s - loss: 0.6634 - acc: 0.6250 - val_loss: 0.9596 - val_acc: 0.0000e+00 - 8s/epoch - 18ms/step\n",
            "Epoch 7/1000\n",
            "435/435 - 8s - loss: 0.6635 - acc: 0.6250 - val_loss: 0.9764 - val_acc: 0.0000e+00 - 8s/epoch - 18ms/step\n",
            "Epoch 8/1000\n",
            "435/435 - 8s - loss: 0.6631 - acc: 0.6250 - val_loss: 1.1148 - val_acc: 0.0000e+00 - 8s/epoch - 18ms/step\n",
            "Epoch 9/1000\n",
            "435/435 - 8s - loss: 0.6637 - acc: 0.6250 - val_loss: 0.9418 - val_acc: 0.0000e+00 - 8s/epoch - 18ms/step\n",
            "Epoch 10/1000\n",
            "435/435 - 8s - loss: 0.6638 - acc: 0.6250 - val_loss: 0.9742 - val_acc: 0.0000e+00 - 8s/epoch - 18ms/step\n",
            "Epoch 11/1000\n",
            "435/435 - 8s - loss: 0.6638 - acc: 0.6250 - val_loss: 1.0303 - val_acc: 0.0000e+00 - 8s/epoch - 18ms/step\n",
            "Epoch 12/1000\n",
            "435/435 - 8s - loss: 0.6644 - acc: 0.6250 - val_loss: 1.0084 - val_acc: 0.0000e+00 - 8s/epoch - 18ms/step\n",
            "Epoch 13/1000\n",
            "435/435 - 8s - loss: 0.6632 - acc: 0.6250 - val_loss: 1.0395 - val_acc: 0.0000e+00 - 8s/epoch - 18ms/step\n",
            "Epoch 14/1000\n",
            "435/435 - 8s - loss: 0.6640 - acc: 0.6250 - val_loss: 0.9288 - val_acc: 0.0000e+00 - 8s/epoch - 18ms/step\n",
            "Epoch 15/1000\n",
            "435/435 - 8s - loss: 0.6634 - acc: 0.6250 - val_loss: 0.9344 - val_acc: 0.0000e+00 - 8s/epoch - 19ms/step\n",
            "Epoch 16/1000\n",
            "435/435 - 8s - loss: 0.6644 - acc: 0.6250 - val_loss: 0.9764 - val_acc: 0.0000e+00 - 8s/epoch - 19ms/step\n",
            "Epoch 17/1000\n",
            "435/435 - 8s - loss: 0.6630 - acc: 0.6250 - val_loss: 0.9935 - val_acc: 0.0000e+00 - 8s/epoch - 18ms/step\n",
            "Epoch 18/1000\n",
            "435/435 - 8s - loss: 0.6639 - acc: 0.6250 - val_loss: 0.9481 - val_acc: 0.0000e+00 - 8s/epoch - 18ms/step\n",
            "Epoch 19/1000\n",
            "435/435 - 8s - loss: 0.6639 - acc: 0.6250 - val_loss: 0.9961 - val_acc: 0.0000e+00 - 8s/epoch - 18ms/step\n",
            "Epoch 20/1000\n",
            "435/435 - 8s - loss: 0.6643 - acc: 0.6250 - val_loss: 0.8834 - val_acc: 0.0000e+00 - 8s/epoch - 18ms/step\n",
            "Epoch 21/1000\n",
            "435/435 - 8s - loss: 0.6627 - acc: 0.6250 - val_loss: 0.8015 - val_acc: 0.0000e+00 - 8s/epoch - 18ms/step\n",
            "Epoch 22/1000\n",
            "435/435 - 8s - loss: 0.6635 - acc: 0.6250 - val_loss: 1.0057 - val_acc: 0.0000e+00 - 8s/epoch - 18ms/step\n",
            "Epoch 23/1000\n",
            "435/435 - 8s - loss: 0.6644 - acc: 0.6250 - val_loss: 0.8751 - val_acc: 0.0000e+00 - 8s/epoch - 18ms/step\n",
            "Epoch 24/1000\n",
            "435/435 - 8s - loss: 0.6649 - acc: 0.6250 - val_loss: 0.9711 - val_acc: 0.0000e+00 - 8s/epoch - 18ms/step\n",
            "Epoch 25/1000\n",
            "435/435 - 8s - loss: 0.6632 - acc: 0.6250 - val_loss: 0.9971 - val_acc: 0.0000e+00 - 8s/epoch - 18ms/step\n",
            "Epoch 26/1000\n",
            "435/435 - 8s - loss: 0.6639 - acc: 0.6250 - val_loss: 0.9980 - val_acc: 0.0000e+00 - 8s/epoch - 18ms/step\n",
            "Epoch 27/1000\n",
            "435/435 - 8s - loss: 0.6635 - acc: 0.6250 - val_loss: 0.9263 - val_acc: 0.0000e+00 - 8s/epoch - 18ms/step\n",
            "Epoch 28/1000\n",
            "435/435 - 8s - loss: 0.6642 - acc: 0.6250 - val_loss: 1.0026 - val_acc: 0.0000e+00 - 8s/epoch - 18ms/step\n",
            "Epoch 29/1000\n",
            "435/435 - 8s - loss: 0.6630 - acc: 0.6250 - val_loss: 0.9488 - val_acc: 0.0000e+00 - 8s/epoch - 18ms/step\n",
            "Epoch 30/1000\n",
            "435/435 - 8s - loss: 0.6632 - acc: 0.6250 - val_loss: 1.1118 - val_acc: 0.0000e+00 - 8s/epoch - 19ms/step\n",
            "Epoch 31/1000\n",
            "435/435 - 8s - loss: 0.6635 - acc: 0.6250 - val_loss: 0.9706 - val_acc: 0.0000e+00 - 8s/epoch - 18ms/step\n",
            "Epoch 32/1000\n",
            "435/435 - 8s - loss: 0.6638 - acc: 0.6250 - val_loss: 0.9807 - val_acc: 0.0000e+00 - 8s/epoch - 18ms/step\n",
            "Epoch 33/1000\n",
            "435/435 - 8s - loss: 0.6636 - acc: 0.6250 - val_loss: 0.9446 - val_acc: 0.0000e+00 - 8s/epoch - 18ms/step\n",
            "Epoch 34/1000\n",
            "435/435 - 8s - loss: 0.6638 - acc: 0.6250 - val_loss: 1.0198 - val_acc: 0.0000e+00 - 8s/epoch - 18ms/step\n",
            "Epoch 35/1000\n",
            "435/435 - 8s - loss: 0.6644 - acc: 0.6250 - val_loss: 1.0364 - val_acc: 0.0000e+00 - 8s/epoch - 18ms/step\n",
            "Epoch 36/1000\n",
            "435/435 - 8s - loss: 0.6633 - acc: 0.6250 - val_loss: 1.1335 - val_acc: 0.0000e+00 - 8s/epoch - 18ms/step\n",
            "Epoch 37/1000\n",
            "435/435 - 8s - loss: 0.6646 - acc: 0.6250 - val_loss: 1.0258 - val_acc: 0.0000e+00 - 8s/epoch - 19ms/step\n",
            "Epoch 38/1000\n",
            "435/435 - 8s - loss: 0.6628 - acc: 0.6250 - val_loss: 1.0663 - val_acc: 0.0000e+00 - 8s/epoch - 18ms/step\n",
            "Epoch 39/1000\n",
            "435/435 - 8s - loss: 0.6637 - acc: 0.6250 - val_loss: 1.0371 - val_acc: 0.0000e+00 - 8s/epoch - 18ms/step\n",
            "Epoch 40/1000\n",
            "435/435 - 8s - loss: 0.6632 - acc: 0.6250 - val_loss: 0.9308 - val_acc: 0.0000e+00 - 8s/epoch - 18ms/step\n",
            "Epoch 41/1000\n",
            "435/435 - 8s - loss: 0.6637 - acc: 0.6250 - val_loss: 1.0467 - val_acc: 0.0000e+00 - 8s/epoch - 18ms/step\n",
            "Epoch 42/1000\n",
            "435/435 - 8s - loss: 0.6637 - acc: 0.6250 - val_loss: 0.9312 - val_acc: 0.0000e+00 - 8s/epoch - 18ms/step\n",
            "Epoch 43/1000\n",
            "435/435 - 8s - loss: 0.6633 - acc: 0.6250 - val_loss: 1.0035 - val_acc: 0.0000e+00 - 8s/epoch - 18ms/step\n",
            "Epoch 44/1000\n",
            "435/435 - 8s - loss: 0.6631 - acc: 0.6250 - val_loss: 1.0224 - val_acc: 0.0000e+00 - 8s/epoch - 18ms/step\n",
            "Epoch 45/1000\n",
            "435/435 - 8s - loss: 0.6637 - acc: 0.6250 - val_loss: 1.0989 - val_acc: 0.0000e+00 - 8s/epoch - 18ms/step\n",
            "Epoch 46/1000\n",
            "435/435 - 8s - loss: 0.6637 - acc: 0.6250 - val_loss: 0.9939 - val_acc: 0.0000e+00 - 8s/epoch - 18ms/step\n",
            "Epoch 47/1000\n",
            "435/435 - 8s - loss: 0.6638 - acc: 0.6250 - val_loss: 0.8559 - val_acc: 0.0000e+00 - 8s/epoch - 18ms/step\n",
            "Epoch 48/1000\n",
            "435/435 - 8s - loss: 0.6638 - acc: 0.6250 - val_loss: 1.0183 - val_acc: 0.0000e+00 - 8s/epoch - 18ms/step\n",
            "Epoch 49/1000\n",
            "435/435 - 9s - loss: 0.6636 - acc: 0.6250 - val_loss: 1.0529 - val_acc: 0.0000e+00 - 9s/epoch - 20ms/step\n",
            "Epoch 50/1000\n",
            "435/435 - 9s - loss: 0.6640 - acc: 0.6250 - val_loss: 0.9213 - val_acc: 0.0000e+00 - 9s/epoch - 20ms/step\n",
            "Epoch 51/1000\n",
            "435/435 - 9s - loss: 0.6633 - acc: 0.6250 - val_loss: 1.0376 - val_acc: 0.0000e+00 - 9s/epoch - 20ms/step\n",
            "Epoch 52/1000\n",
            "435/435 - 9s - loss: 0.6635 - acc: 0.6250 - val_loss: 0.9947 - val_acc: 0.0000e+00 - 9s/epoch - 20ms/step\n",
            "Epoch 53/1000\n",
            "435/435 - 9s - loss: 0.6630 - acc: 0.6250 - val_loss: 0.9704 - val_acc: 0.0000e+00 - 9s/epoch - 20ms/step\n",
            "Epoch 54/1000\n",
            "435/435 - 9s - loss: 0.6638 - acc: 0.6250 - val_loss: 0.9860 - val_acc: 0.0000e+00 - 9s/epoch - 20ms/step\n",
            "Epoch 55/1000\n",
            "435/435 - 9s - loss: 0.6652 - acc: 0.6250 - val_loss: 0.9408 - val_acc: 0.0000e+00 - 9s/epoch - 20ms/step\n",
            "Epoch 56/1000\n",
            "435/435 - 9s - loss: 0.6638 - acc: 0.6250 - val_loss: 0.9525 - val_acc: 0.0000e+00 - 9s/epoch - 20ms/step\n",
            "Epoch 57/1000\n",
            "435/435 - 9s - loss: 0.6633 - acc: 0.6250 - val_loss: 1.1073 - val_acc: 0.0000e+00 - 9s/epoch - 20ms/step\n",
            "Epoch 58/1000\n",
            "435/435 - 9s - loss: 0.6636 - acc: 0.6250 - val_loss: 0.9417 - val_acc: 0.0000e+00 - 9s/epoch - 20ms/step\n",
            "Epoch 59/1000\n",
            "435/435 - 9s - loss: 0.6632 - acc: 0.6250 - val_loss: 0.9633 - val_acc: 0.0000e+00 - 9s/epoch - 20ms/step\n",
            "Epoch 60/1000\n",
            "435/435 - 9s - loss: 0.6633 - acc: 0.6250 - val_loss: 1.0242 - val_acc: 0.0000e+00 - 9s/epoch - 20ms/step\n",
            "Epoch 61/1000\n"
          ]
        },
        {
          "output_type": "error",
          "ename": "KeyboardInterrupt",
          "evalue": "ignored",
          "traceback": [
            "\u001b[0;31m---------------------------------------------------------------------------\u001b[0m",
            "\u001b[0;31mKeyboardInterrupt\u001b[0m                         Traceback (most recent call last)",
            "\u001b[0;32m<ipython-input-9-09fa9f061f4d>\u001b[0m in \u001b[0;36m<module>\u001b[0;34m()\u001b[0m\n\u001b[1;32m      6\u001b[0m history = model.fit([eeg, env1, env2], labels,\n\u001b[1;32m      7\u001b[0m           \u001b[0mepochs\u001b[0m\u001b[0;34m=\u001b[0m\u001b[0;36m1000\u001b[0m\u001b[0;34m,\u001b[0m\u001b[0mvalidation_split\u001b[0m\u001b[0;34m=\u001b[0m\u001b[0;36m0.2\u001b[0m\u001b[0;34m,\u001b[0m\u001b[0mshuffle\u001b[0m\u001b[0;34m=\u001b[0m\u001b[0;32mTrue\u001b[0m\u001b[0;34m,\u001b[0m\u001b[0;34m\u001b[0m\u001b[0;34m\u001b[0m\u001b[0m\n\u001b[0;32m----> 8\u001b[0;31m           verbose=2)\n\u001b[0m\u001b[1;32m      9\u001b[0m \u001b[0;34m\u001b[0m\u001b[0m\n",
            "\u001b[0;32m/usr/local/lib/python3.7/dist-packages/keras/utils/traceback_utils.py\u001b[0m in \u001b[0;36merror_handler\u001b[0;34m(*args, **kwargs)\u001b[0m\n\u001b[1;32m     62\u001b[0m     \u001b[0mfiltered_tb\u001b[0m \u001b[0;34m=\u001b[0m \u001b[0;32mNone\u001b[0m\u001b[0;34m\u001b[0m\u001b[0;34m\u001b[0m\u001b[0m\n\u001b[1;32m     63\u001b[0m     \u001b[0;32mtry\u001b[0m\u001b[0;34m:\u001b[0m\u001b[0;34m\u001b[0m\u001b[0;34m\u001b[0m\u001b[0m\n\u001b[0;32m---> 64\u001b[0;31m       \u001b[0;32mreturn\u001b[0m \u001b[0mfn\u001b[0m\u001b[0;34m(\u001b[0m\u001b[0;34m*\u001b[0m\u001b[0margs\u001b[0m\u001b[0;34m,\u001b[0m \u001b[0;34m**\u001b[0m\u001b[0mkwargs\u001b[0m\u001b[0;34m)\u001b[0m\u001b[0;34m\u001b[0m\u001b[0;34m\u001b[0m\u001b[0m\n\u001b[0m\u001b[1;32m     65\u001b[0m     \u001b[0;32mexcept\u001b[0m \u001b[0mException\u001b[0m \u001b[0;32mas\u001b[0m \u001b[0me\u001b[0m\u001b[0;34m:\u001b[0m  \u001b[0;31m# pylint: disable=broad-except\u001b[0m\u001b[0;34m\u001b[0m\u001b[0;34m\u001b[0m\u001b[0m\n\u001b[1;32m     66\u001b[0m       \u001b[0mfiltered_tb\u001b[0m \u001b[0;34m=\u001b[0m \u001b[0m_process_traceback_frames\u001b[0m\u001b[0;34m(\u001b[0m\u001b[0me\u001b[0m\u001b[0;34m.\u001b[0m\u001b[0m__traceback__\u001b[0m\u001b[0;34m)\u001b[0m\u001b[0;34m\u001b[0m\u001b[0;34m\u001b[0m\u001b[0m\n",
            "\u001b[0;32m/usr/local/lib/python3.7/dist-packages/keras/engine/training.py\u001b[0m in \u001b[0;36mfit\u001b[0;34m(self, x, y, batch_size, epochs, verbose, callbacks, validation_split, validation_data, shuffle, class_weight, sample_weight, initial_epoch, steps_per_epoch, validation_steps, validation_batch_size, validation_freq, max_queue_size, workers, use_multiprocessing)\u001b[0m\n\u001b[1;32m   1382\u001b[0m                 _r=1):\n\u001b[1;32m   1383\u001b[0m               \u001b[0mcallbacks\u001b[0m\u001b[0;34m.\u001b[0m\u001b[0mon_train_batch_begin\u001b[0m\u001b[0;34m(\u001b[0m\u001b[0mstep\u001b[0m\u001b[0;34m)\u001b[0m\u001b[0;34m\u001b[0m\u001b[0;34m\u001b[0m\u001b[0m\n\u001b[0;32m-> 1384\u001b[0;31m               \u001b[0mtmp_logs\u001b[0m \u001b[0;34m=\u001b[0m \u001b[0mself\u001b[0m\u001b[0;34m.\u001b[0m\u001b[0mtrain_function\u001b[0m\u001b[0;34m(\u001b[0m\u001b[0miterator\u001b[0m\u001b[0;34m)\u001b[0m\u001b[0;34m\u001b[0m\u001b[0;34m\u001b[0m\u001b[0m\n\u001b[0m\u001b[1;32m   1385\u001b[0m               \u001b[0;32mif\u001b[0m \u001b[0mdata_handler\u001b[0m\u001b[0;34m.\u001b[0m\u001b[0mshould_sync\u001b[0m\u001b[0;34m:\u001b[0m\u001b[0;34m\u001b[0m\u001b[0;34m\u001b[0m\u001b[0m\n\u001b[1;32m   1386\u001b[0m                 \u001b[0mcontext\u001b[0m\u001b[0;34m.\u001b[0m\u001b[0masync_wait\u001b[0m\u001b[0;34m(\u001b[0m\u001b[0;34m)\u001b[0m\u001b[0;34m\u001b[0m\u001b[0;34m\u001b[0m\u001b[0m\n",
            "\u001b[0;32m/usr/local/lib/python3.7/dist-packages/tensorflow/python/util/traceback_utils.py\u001b[0m in \u001b[0;36merror_handler\u001b[0;34m(*args, **kwargs)\u001b[0m\n\u001b[1;32m    148\u001b[0m     \u001b[0mfiltered_tb\u001b[0m \u001b[0;34m=\u001b[0m \u001b[0;32mNone\u001b[0m\u001b[0;34m\u001b[0m\u001b[0;34m\u001b[0m\u001b[0m\n\u001b[1;32m    149\u001b[0m     \u001b[0;32mtry\u001b[0m\u001b[0;34m:\u001b[0m\u001b[0;34m\u001b[0m\u001b[0;34m\u001b[0m\u001b[0m\n\u001b[0;32m--> 150\u001b[0;31m       \u001b[0;32mreturn\u001b[0m \u001b[0mfn\u001b[0m\u001b[0;34m(\u001b[0m\u001b[0;34m*\u001b[0m\u001b[0margs\u001b[0m\u001b[0;34m,\u001b[0m \u001b[0;34m**\u001b[0m\u001b[0mkwargs\u001b[0m\u001b[0;34m)\u001b[0m\u001b[0;34m\u001b[0m\u001b[0;34m\u001b[0m\u001b[0m\n\u001b[0m\u001b[1;32m    151\u001b[0m     \u001b[0;32mexcept\u001b[0m \u001b[0mException\u001b[0m \u001b[0;32mas\u001b[0m \u001b[0me\u001b[0m\u001b[0;34m:\u001b[0m\u001b[0;34m\u001b[0m\u001b[0;34m\u001b[0m\u001b[0m\n\u001b[1;32m    152\u001b[0m       \u001b[0mfiltered_tb\u001b[0m \u001b[0;34m=\u001b[0m \u001b[0m_process_traceback_frames\u001b[0m\u001b[0;34m(\u001b[0m\u001b[0me\u001b[0m\u001b[0;34m.\u001b[0m\u001b[0m__traceback__\u001b[0m\u001b[0;34m)\u001b[0m\u001b[0;34m\u001b[0m\u001b[0;34m\u001b[0m\u001b[0m\n",
            "\u001b[0;32m/usr/local/lib/python3.7/dist-packages/tensorflow/python/eager/def_function.py\u001b[0m in \u001b[0;36m__call__\u001b[0;34m(self, *args, **kwds)\u001b[0m\n\u001b[1;32m    913\u001b[0m \u001b[0;34m\u001b[0m\u001b[0m\n\u001b[1;32m    914\u001b[0m       \u001b[0;32mwith\u001b[0m \u001b[0mOptionalXlaContext\u001b[0m\u001b[0;34m(\u001b[0m\u001b[0mself\u001b[0m\u001b[0;34m.\u001b[0m\u001b[0m_jit_compile\u001b[0m\u001b[0;34m)\u001b[0m\u001b[0;34m:\u001b[0m\u001b[0;34m\u001b[0m\u001b[0;34m\u001b[0m\u001b[0m\n\u001b[0;32m--> 915\u001b[0;31m         \u001b[0mresult\u001b[0m \u001b[0;34m=\u001b[0m \u001b[0mself\u001b[0m\u001b[0;34m.\u001b[0m\u001b[0m_call\u001b[0m\u001b[0;34m(\u001b[0m\u001b[0;34m*\u001b[0m\u001b[0margs\u001b[0m\u001b[0;34m,\u001b[0m \u001b[0;34m**\u001b[0m\u001b[0mkwds\u001b[0m\u001b[0;34m)\u001b[0m\u001b[0;34m\u001b[0m\u001b[0;34m\u001b[0m\u001b[0m\n\u001b[0m\u001b[1;32m    916\u001b[0m \u001b[0;34m\u001b[0m\u001b[0m\n\u001b[1;32m    917\u001b[0m       \u001b[0mnew_tracing_count\u001b[0m \u001b[0;34m=\u001b[0m \u001b[0mself\u001b[0m\u001b[0;34m.\u001b[0m\u001b[0mexperimental_get_tracing_count\u001b[0m\u001b[0;34m(\u001b[0m\u001b[0;34m)\u001b[0m\u001b[0;34m\u001b[0m\u001b[0;34m\u001b[0m\u001b[0m\n",
            "\u001b[0;32m/usr/local/lib/python3.7/dist-packages/tensorflow/python/eager/def_function.py\u001b[0m in \u001b[0;36m_call\u001b[0;34m(self, *args, **kwds)\u001b[0m\n\u001b[1;32m    945\u001b[0m       \u001b[0;31m# In this case we have created variables on the first call, so we run the\u001b[0m\u001b[0;34m\u001b[0m\u001b[0;34m\u001b[0m\u001b[0;34m\u001b[0m\u001b[0m\n\u001b[1;32m    946\u001b[0m       \u001b[0;31m# defunned version which is guaranteed to never create variables.\u001b[0m\u001b[0;34m\u001b[0m\u001b[0;34m\u001b[0m\u001b[0;34m\u001b[0m\u001b[0m\n\u001b[0;32m--> 947\u001b[0;31m       \u001b[0;32mreturn\u001b[0m \u001b[0mself\u001b[0m\u001b[0;34m.\u001b[0m\u001b[0m_stateless_fn\u001b[0m\u001b[0;34m(\u001b[0m\u001b[0;34m*\u001b[0m\u001b[0margs\u001b[0m\u001b[0;34m,\u001b[0m \u001b[0;34m**\u001b[0m\u001b[0mkwds\u001b[0m\u001b[0;34m)\u001b[0m  \u001b[0;31m# pylint: disable=not-callable\u001b[0m\u001b[0;34m\u001b[0m\u001b[0;34m\u001b[0m\u001b[0m\n\u001b[0m\u001b[1;32m    948\u001b[0m     \u001b[0;32melif\u001b[0m \u001b[0mself\u001b[0m\u001b[0;34m.\u001b[0m\u001b[0m_stateful_fn\u001b[0m \u001b[0;32mis\u001b[0m \u001b[0;32mnot\u001b[0m \u001b[0;32mNone\u001b[0m\u001b[0;34m:\u001b[0m\u001b[0;34m\u001b[0m\u001b[0;34m\u001b[0m\u001b[0m\n\u001b[1;32m    949\u001b[0m       \u001b[0;31m# Release the lock early so that multiple threads can perform the call\u001b[0m\u001b[0;34m\u001b[0m\u001b[0;34m\u001b[0m\u001b[0;34m\u001b[0m\u001b[0m\n",
            "\u001b[0;32m/usr/local/lib/python3.7/dist-packages/tensorflow/python/eager/function.py\u001b[0m in \u001b[0;36m__call__\u001b[0;34m(self, *args, **kwargs)\u001b[0m\n\u001b[1;32m   2955\u001b[0m        filtered_flat_args) = self._maybe_define_function(args, kwargs)\n\u001b[1;32m   2956\u001b[0m     return graph_function._call_flat(\n\u001b[0;32m-> 2957\u001b[0;31m         filtered_flat_args, captured_inputs=graph_function.captured_inputs)  # pylint: disable=protected-access\n\u001b[0m\u001b[1;32m   2958\u001b[0m \u001b[0;34m\u001b[0m\u001b[0m\n\u001b[1;32m   2959\u001b[0m   \u001b[0;34m@\u001b[0m\u001b[0mproperty\u001b[0m\u001b[0;34m\u001b[0m\u001b[0;34m\u001b[0m\u001b[0m\n",
            "\u001b[0;32m/usr/local/lib/python3.7/dist-packages/tensorflow/python/eager/function.py\u001b[0m in \u001b[0;36m_call_flat\u001b[0;34m(self, args, captured_inputs, cancellation_manager)\u001b[0m\n\u001b[1;32m   1852\u001b[0m       \u001b[0;31m# No tape is watching; skip to running the function.\u001b[0m\u001b[0;34m\u001b[0m\u001b[0;34m\u001b[0m\u001b[0;34m\u001b[0m\u001b[0m\n\u001b[1;32m   1853\u001b[0m       return self._build_call_outputs(self._inference_function.call(\n\u001b[0;32m-> 1854\u001b[0;31m           ctx, args, cancellation_manager=cancellation_manager))\n\u001b[0m\u001b[1;32m   1855\u001b[0m     forward_backward = self._select_forward_and_backward_functions(\n\u001b[1;32m   1856\u001b[0m         \u001b[0margs\u001b[0m\u001b[0;34m,\u001b[0m\u001b[0;34m\u001b[0m\u001b[0;34m\u001b[0m\u001b[0m\n",
            "\u001b[0;32m/usr/local/lib/python3.7/dist-packages/tensorflow/python/eager/function.py\u001b[0m in \u001b[0;36mcall\u001b[0;34m(self, ctx, args, cancellation_manager)\u001b[0m\n\u001b[1;32m    502\u001b[0m               \u001b[0minputs\u001b[0m\u001b[0;34m=\u001b[0m\u001b[0margs\u001b[0m\u001b[0;34m,\u001b[0m\u001b[0;34m\u001b[0m\u001b[0;34m\u001b[0m\u001b[0m\n\u001b[1;32m    503\u001b[0m               \u001b[0mattrs\u001b[0m\u001b[0;34m=\u001b[0m\u001b[0mattrs\u001b[0m\u001b[0;34m,\u001b[0m\u001b[0;34m\u001b[0m\u001b[0;34m\u001b[0m\u001b[0m\n\u001b[0;32m--> 504\u001b[0;31m               ctx=ctx)\n\u001b[0m\u001b[1;32m    505\u001b[0m         \u001b[0;32melse\u001b[0m\u001b[0;34m:\u001b[0m\u001b[0;34m\u001b[0m\u001b[0;34m\u001b[0m\u001b[0m\n\u001b[1;32m    506\u001b[0m           outputs = execute.execute_with_cancellation(\n",
            "\u001b[0;32m/usr/local/lib/python3.7/dist-packages/tensorflow/python/eager/execute.py\u001b[0m in \u001b[0;36mquick_execute\u001b[0;34m(op_name, num_outputs, inputs, attrs, ctx, name)\u001b[0m\n\u001b[1;32m     53\u001b[0m     \u001b[0mctx\u001b[0m\u001b[0;34m.\u001b[0m\u001b[0mensure_initialized\u001b[0m\u001b[0;34m(\u001b[0m\u001b[0;34m)\u001b[0m\u001b[0;34m\u001b[0m\u001b[0;34m\u001b[0m\u001b[0m\n\u001b[1;32m     54\u001b[0m     tensors = pywrap_tfe.TFE_Py_Execute(ctx._handle, device_name, op_name,\n\u001b[0;32m---> 55\u001b[0;31m                                         inputs, attrs, num_outputs)\n\u001b[0m\u001b[1;32m     56\u001b[0m   \u001b[0;32mexcept\u001b[0m \u001b[0mcore\u001b[0m\u001b[0;34m.\u001b[0m\u001b[0m_NotOkStatusException\u001b[0m \u001b[0;32mas\u001b[0m \u001b[0me\u001b[0m\u001b[0;34m:\u001b[0m\u001b[0;34m\u001b[0m\u001b[0;34m\u001b[0m\u001b[0m\n\u001b[1;32m     57\u001b[0m     \u001b[0;32mif\u001b[0m \u001b[0mname\u001b[0m \u001b[0;32mis\u001b[0m \u001b[0;32mnot\u001b[0m \u001b[0;32mNone\u001b[0m\u001b[0;34m:\u001b[0m\u001b[0;34m\u001b[0m\u001b[0;34m\u001b[0m\u001b[0m\n",
            "\u001b[0;31mKeyboardInterrupt\u001b[0m: "
          ]
        }
      ]
    },
    {
      "cell_type": "code",
      "source": [
        "print(history.history.keys())\n",
        "\n",
        "#plt.subplot(1,2,1)        \n",
        "plt.plot(history.history['loss'])\n",
        "plt.plot(history.history['val_loss'])\n",
        "plt.title('loss')\n",
        "plt.ylabel('loss')  \n",
        "plt.xlabel('epoch')\n",
        "plt.legend(['train', 'valid'], loc='upper left')\n",
        "plt.show()\n"
      ],
      "metadata": {
        "id": "CXvLYwMRNCbA"
      },
      "execution_count": null,
      "outputs": []
    }
  ]
}